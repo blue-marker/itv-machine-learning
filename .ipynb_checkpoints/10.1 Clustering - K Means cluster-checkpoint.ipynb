{
 "cells": [
  {
   "cell_type": "code",
   "execution_count": 1,
   "metadata": {},
   "outputs": [],
   "source": [
    "from sklearn.cluster import KMeans \n",
    "from sklearn import metrics \n",
    "from scipy.spatial.distance import cdist \n",
    "import numpy as np \n",
    "import matplotlib.pyplot as plt \n",
    "import pandas as pd\n",
    "import seaborn as sns"
   ]
  },
  {
   "cell_type": "code",
   "execution_count": 2,
   "metadata": {},
   "outputs": [
    {
     "data": {
      "image/png": "[encoded data removed]",
      "text/plain": [
       "<Figure size 432x288 with 1 Axes>"
      ]
     },
     "metadata": {
      "needs_background": "light"
     },
     "output_type": "display_data"
    }
   ],
   "source": [
    "#Creating the data \n",
    "x1 = np.array([3, 1, 1, 2, 1, 6, 6, 6, 5, 6, 7, 8, 9, 8,\n",
    "               9, 9, 8]) \n",
    "x2 = np.array([5, 4, 5, 6, 5, 8, 6, 7, 6, 7, 1, 2, 1, 2, \n",
    "               3, 2, 3]) \n",
    "X = np.array(list(zip(x1, x2))).reshape(len(x1), 2) \n",
    "\n",
    "#Visualizing the data \n",
    "plt.plot() \n",
    "plt.xlim([0, 10]) \n",
    "plt.ylim([0, 10]) \n",
    "plt.title('Dataset') \n",
    "plt.scatter(x1, x2) \n",
    "plt.show()\n"
   ]
  },
  {
   "cell_type": "code",
   "execution_count": 3,
   "metadata": {},
   "outputs": [],
   "source": [
    "# Building the clustering model and calculating the values of the Distortion and Inertia\n",
    "# Distortions means WCSS (Within cluster sum of squares \n",
    "# within cluster variance)\n",
    "# Inertia Means BCSS (Between cluster sum of squares\n",
    "#  between cluster variance)\n",
    "distortions = [] \n",
    "inertias = [] \n",
    "mapping1 = {} \n",
    "mapping2 = {} \n",
    "K = range(1,10) \n",
    "\n",
    "for k in K: \n",
    "\t#Building and fitting the model \n",
    "\tkmeanModel = KMeans(n_clusters=k)\n",
    "\tkmeanModel.fit(X)\t \n",
    "\t#calculating WCSS\n",
    "\tdistortions.append(sum(np.min(cdist(X, \n",
    "                            kmeanModel.cluster_centers_, \n",
    "\t\t\t\t\t'euclidean'),axis=1)) / X.shape[0]) \n",
    "    #calculation BCSS\n",
    "\tinertias.append(kmeanModel.inertia_) \n",
    "\n",
    "\tmapping1[k] = sum(np.min(cdist(X, kmeanModel.cluster_centers_, \n",
    "\t\t\t\t'euclidean'),axis=1)) / X.shape[0] \n",
    "\tmapping2[k] = kmeanModel.inertia_ "
   ]
  },
  {
   "cell_type": "code",
   "execution_count": 4,
   "metadata": {},
   "outputs": [
    {
     "name": "stdout",
     "output_type": "stream",
     "text": [
      "1 : 3.4577032384495707\n",
      "2 : 1.7687413573405673\n",
      "3 : 0.8819889697423957\n",
      "4 : 0.7587138847606585\n",
      "5 : 0.6872918402957646\n",
      "6 : 0.5920126825722444\n",
      "7 : 0.5274410771884641\n",
      "8 : 0.42618267462691206\n",
      "9 : 0.3333333333333333\n"
     ]
    }
   ],
   "source": [
    "for key,val in mapping1.items(): \n",
    "\tprint(str(key)+' : '+str(val)) "
   ]
  },
  {
   "cell_type": "code",
   "execution_count": 5,
   "metadata": {},
   "outputs": [
    {
     "data": {
      "image/png": "[encoded data removed]",
      "text/plain": [
       "<Figure size 432x288 with 1 Axes>"
      ]
     },
     "metadata": {
      "needs_background": "light"
     },
     "output_type": "display_data"
    }
   ],
   "source": [
    "plt.plot(K, distortions, 'bx-') \n",
    "plt.xlabel('Values of K') \n",
    "plt.ylabel('Distortion') \n",
    "plt.title('The Elbow Method using Distortion') \n",
    "plt.show()"
   ]
  },
  {
   "cell_type": "code",
   "execution_count": 6,
   "metadata": {},
   "outputs": [
    {
     "name": "stdout",
     "output_type": "stream",
     "text": [
      "1 : 217.64705882352942\n",
      "2 : 68.42857142857142\n",
      "3 : 16.228571428571428\n",
      "4 : 12.695238095238093\n",
      "5 : 9.6\n",
      "6 : 7.516666666666667\n",
      "7 : 5.166666666666667\n",
      "8 : 4.083333333333334\n",
      "9 : 2.8333333333333335\n"
     ]
    }
   ],
   "source": [
    "for key,val in mapping2.items(): \n",
    "\tprint(str(key)+' : '+str(val)) "
   ]
  },
  {
   "cell_type": "code",
   "execution_count": 7,
   "metadata": {},
   "outputs": [
    {
     "data": {
      "image/png": "[encoded data removed]",
      "text/plain": [
       "<Figure size 432x288 with 1 Axes>"
      ]
     },
     "metadata": {
      "needs_background": "light"
     },
     "output_type": "display_data"
    }
   ],
   "source": [
    "plt.plot(K, inertias, 'bx-') \n",
    "plt.xlabel('Values of K') \n",
    "plt.ylabel('Inertia') \n",
    "plt.title('The Elbow Method using Inertia') \n",
    "plt.show() "
   ]
  },
  {
   "cell_type": "code",
   "execution_count": 8,
   "metadata": {},
   "outputs": [
    {
     "data": {
      "text/html": [
       "<div>\n",
       "<style scoped>\n",
       "    .dataframe tbody tr th:only-of-type {\n",
       "        vertical-align: middle;\n",
       "    }\n",
       "\n",
       "    .dataframe tbody tr th {\n",
       "        vertical-align: top;\n",
       "    }\n",
       "\n",
       "    .dataframe thead th {\n",
       "        text-align: right;\n",
       "    }\n",
       "</style>\n",
       "<table border=\"1\" class=\"dataframe\">\n",
       "  <thead>\n",
       "    <tr style=\"text-align: right;\">\n",
       "      <th></th>\n",
       "      <th>X</th>\n",
       "      <th>Y</th>\n",
       "    </tr>\n",
       "  </thead>\n",
       "  <tbody>\n",
       "    <tr>\n",
       "      <td>0</td>\n",
       "      <td>5.588235</td>\n",
       "      <td>4.294118</td>\n",
       "    </tr>\n",
       "  </tbody>\n",
       "</table>\n",
       "</div>"
      ],
      "text/plain": [
       "          X         Y\n",
       "0  5.588235  4.294118"
      ]
     },
     "execution_count": 8,
     "metadata": {},
     "output_type": "execute_result"
    }
   ],
   "source": [
    "kmeanModel = KMeans(n_clusters=1).fit(X) \n",
    "kmeanModel.fit(X)\n",
    "labels = kmeanModel.fit_predict(X)\n",
    "centroids = kmeanModel.cluster_centers_\n",
    "centroid_df = pd.DataFrame(centroids,columns=[\"X\",\"Y\"])\n",
    "centroid_df"
   ]
  },
  {
   "cell_type": "code",
   "execution_count": 9,
   "metadata": {},
   "outputs": [],
   "source": [
    "df = pd.DataFrame(X, columns=['x1', 'x2'])"
   ]
  },
  {
   "cell_type": "code",
   "execution_count": 10,
   "metadata": {},
   "outputs": [],
   "source": [
    "df_new = pd.concat([df, pd.DataFrame({'labels':labels})], axis=1)"
   ]
  },
  {
   "cell_type": "code",
   "execution_count": 11,
   "metadata": {},
   "outputs": [
    {
     "data": {
      "text/html": [
       "<div>\n",
       "<style scoped>\n",
       "    .dataframe tbody tr th:only-of-type {\n",
       "        vertical-align: middle;\n",
       "    }\n",
       "\n",
       "    .dataframe tbody tr th {\n",
       "        vertical-align: top;\n",
       "    }\n",
       "\n",
       "    .dataframe thead th {\n",
       "        text-align: right;\n",
       "    }\n",
       "</style>\n",
       "<table border=\"1\" class=\"dataframe\">\n",
       "  <thead>\n",
       "    <tr style=\"text-align: right;\">\n",
       "      <th></th>\n",
       "      <th>x1</th>\n",
       "      <th>x2</th>\n",
       "      <th>labels</th>\n",
       "    </tr>\n",
       "  </thead>\n",
       "  <tbody>\n",
       "    <tr>\n",
       "      <td>0</td>\n",
       "      <td>3</td>\n",
       "      <td>5</td>\n",
       "      <td>0</td>\n",
       "    </tr>\n",
       "    <tr>\n",
       "      <td>1</td>\n",
       "      <td>1</td>\n",
       "      <td>4</td>\n",
       "      <td>0</td>\n",
       "    </tr>\n",
       "    <tr>\n",
       "      <td>2</td>\n",
       "      <td>1</td>\n",
       "      <td>5</td>\n",
       "      <td>0</td>\n",
       "    </tr>\n",
       "    <tr>\n",
       "      <td>3</td>\n",
       "      <td>2</td>\n",
       "      <td>6</td>\n",
       "      <td>0</td>\n",
       "    </tr>\n",
       "    <tr>\n",
       "      <td>4</td>\n",
       "      <td>1</td>\n",
       "      <td>5</td>\n",
       "      <td>0</td>\n",
       "    </tr>\n",
       "  </tbody>\n",
       "</table>\n",
       "</div>"
      ],
      "text/plain": [
       "   x1  x2  labels\n",
       "0   3   5       0\n",
       "1   1   4       0\n",
       "2   1   5       0\n",
       "3   2   6       0\n",
       "4   1   5       0"
      ]
     },
     "execution_count": 11,
     "metadata": {},
     "output_type": "execute_result"
    }
   ],
   "source": [
    "df_new.head()"
   ]
  },
  {
   "cell_type": "code",
   "execution_count": 12,
   "metadata": {},
   "outputs": [
    {
     "data": {
      "image/png": "[encoded data removed]",
      "text/plain": [
       "<Figure size 432x288 with 1 Axes>"
      ]
     },
     "metadata": {
      "needs_background": "light"
     },
     "output_type": "display_data"
    }
   ],
   "source": [
    "sns.scatterplot(x=df_new[\"x1\"],y=df_new[\"x2\"],hue=labels,palette=\"viridis\")\n",
    "plt.scatter(centroid_df[\"X\"],centroid_df[\"Y\"], c='black',s=150, alpha=0.6);\n",
    "plt.show()"
   ]
  },
  {
   "cell_type": "code",
   "execution_count": 13,
   "metadata": {},
   "outputs": [
    {
     "data": {
      "image/png": "[encoded data removed]",
      "text/plain": [
       "<Figure size 432x288 with 1 Axes>"
      ]
     },
     "metadata": {
      "needs_background": "light"
     },
     "output_type": "display_data"
    }
   ],
   "source": [
    "kmeanModel = KMeans(n_clusters=2).fit(X) \n",
    "kmeanModel.fit(X)\n",
    "labels = kmeanModel.fit_predict(X)\n",
    "centroids = kmeanModel.cluster_centers_\n",
    "centroid_df = pd.DataFrame(centroids,columns=[\"X\",\"Y\"])\n",
    "df = pd.DataFrame(X, columns=['x1', 'x2'])\n",
    "df_new = pd.concat([df, pd.DataFrame({'labels':labels})], axis=1)\n",
    "\n",
    "\n",
    "sns.scatterplot(x=df_new[\"x1\"],y=df_new[\"x2\"],hue=labels,palette=\"viridis\")\n",
    "plt.scatter(centroid_df[\"X\"],centroid_df[\"Y\"], c='black',s=150, alpha=0.6);\n",
    "plt.show()"
   ]
  },
  {
   "cell_type": "code",
   "execution_count": 14,
   "metadata": {},
   "outputs": [
    {
     "data": {
      "image/png": "[encoded data removed]",
      "text/plain": [
       "<Figure size 432x288 with 1 Axes>"
      ]
     },
     "metadata": {
      "needs_background": "light"
     },
     "output_type": "display_data"
    }
   ],
   "source": [
    "kmeanModel = KMeans(n_clusters=3).fit(X) \n",
    "kmeanModel.fit(X)\n",
    "labels = kmeanModel.fit_predict(X)\n",
    "centroids = kmeanModel.cluster_centers_\n",
    "centroid_df = pd.DataFrame(centroids,columns=[\"X\",\"Y\"])\n",
    "df = pd.DataFrame(X, columns=['x1', 'x2'])\n",
    "df_new = pd.concat([df, pd.DataFrame({'labels':labels})], axis=1)\n",
    "\n",
    "\n",
    "sns.scatterplot(x=df_new[\"x1\"],y=df_new[\"x2\"],hue=labels,palette=\"viridis\")\n",
    "plt.scatter(centroid_df[\"X\"],centroid_df[\"Y\"], c='black',s=150, alpha=0.6);\n",
    "plt.show()"
   ]
  },
  {
   "cell_type": "code",
   "execution_count": null,
   "metadata": {},
   "outputs": [],
   "source": []
  }
 ],
 "metadata": {
  "kernelspec": {
   "display_name": "Python 3",
   "language": "python",
   "name": "python3"
  },
  "language_info": {
   "codemirror_mode": {
    "name": "ipython",
    "version": 3
   },
   "file_extension": ".py",
   "mimetype": "text/x-python",
   "name": "python",
   "nbconvert_exporter": "python",
   "pygments_lexer": "ipython3",
   "version": "3.7.4"
  }
 },
 "nbformat": 4,
 "nbformat_minor": 2
}
