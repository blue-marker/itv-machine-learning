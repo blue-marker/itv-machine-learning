{
 "cells": [
  {
   "cell_type": "markdown",
   "metadata": {},
   "source": [
    "### Wrapper Methods for Feature Selection\n",
    "Wrapper methods are based on greedy search algorithms as they evaluate all possible combinations of the features and select the combination that produces the best result for a specific machine learning algorithm. A downside to this approach is that testing all possible combinations of the features can be computationally very expensive, particularly if the feature set is very large."
   ]
  },
  {
   "cell_type": "code",
   "execution_count": 1,
   "metadata": {},
   "outputs": [
    {
     "data": {
      "text/plain": [
       "(10000, 133)"
      ]
     },
     "execution_count": 1,
     "metadata": {},
     "output_type": "execute_result"
    }
   ],
   "source": [
    "# Data Pre-processing\n",
    "import pandas as pd\n",
    "import numpy as np\n",
    "from sklearn.model_selection import train_test_split\n",
    "\n",
    "paribas_data = pd.read_csv(\"paribas_data.csv\", nrows=10000)\n",
    "paribas_data.shape"
   ]
  },
  {
   "cell_type": "code",
   "execution_count": 2,
   "metadata": {},
   "outputs": [
    {
     "data": {
      "text/plain": [
       "(10000, 114)"
      ]
     },
     "execution_count": 2,
     "metadata": {},
     "output_type": "execute_result"
    }
   ],
   "source": [
    "# removing the non-numeric columns from the dataset\n",
    "num_colums = ['int16', 'int32', 'int64', 'float16', 'float32', 'float64']\n",
    "numerical_columns = list(paribas_data.select_dtypes(include=num_colums).columns)\n",
    "paribas_data = paribas_data[numerical_columns]\n",
    "paribas_data.shape"
   ]
  },
  {
   "cell_type": "code",
   "execution_count": 3,
   "metadata": {},
   "outputs": [],
   "source": [
    "train_features, test_features, train_labels, test_labels = train_test_split(\n",
    "    paribas_data.drop(labels=['target', 'ID'], axis=1),\n",
    "    paribas_data['target'],\n",
    "    test_size=0.2,\n",
    "    random_state=41)"
   ]
  },
  {
   "cell_type": "code",
   "execution_count": 4,
   "metadata": {},
   "outputs": [],
   "source": [
    "# Creating a set of all the columns with a correlation of greater than 0.8\n",
    "correlated_features = set()\n",
    "correlation_matrix = paribas_data.corr()\n",
    "for i in range(len(correlation_matrix .columns)):\n",
    "    for j in range(i):\n",
    "        if abs(correlation_matrix.iloc[i, j]) > 0.8:\n",
    "            colname = correlation_matrix.columns[i]\n",
    "            correlated_features.add(colname)"
   ]
  },
  {
   "cell_type": "code",
   "execution_count": 5,
   "metadata": {},
   "outputs": [
    {
     "data": {
      "text/plain": [
       "((8000, 57), (2000, 57))"
      ]
     },
     "execution_count": 5,
     "metadata": {},
     "output_type": "execute_result"
    }
   ],
   "source": [
    "# Removing the columns as per above set\n",
    "train_features.drop(labels=correlated_features, axis=1, inplace=True)\n",
    "test_features.drop(labels=correlated_features, axis=1, inplace=True)\n",
    "\n",
    "train_features.shape, test_features.shape"
   ]
  },
  {
   "cell_type": "code",
   "execution_count": 6,
   "metadata": {},
   "outputs": [],
   "source": [
    "# Step Forward Feature Selection also know as Sequential Feature Selection\n",
    "from sklearn.ensemble import RandomForestClassifier\n",
    "from sklearn.metrics import roc_auc_score\n",
    "\n",
    "from mlxtend.feature_selection import SequentialFeatureSelector\n",
    "\n",
    "# # RandomForestClassifieras the estimator to the SequentialFeatureSelector function. \n",
    "# k_features specifies the number of features to select. You can set any number of features here. \n",
    "# The forward parameter, if set to True, performs step forward feature selection. \n",
    "# The verbose parameter is used for logging the progress of the feature selector, \n",
    "# the scoring parameter defines the performance evaluation criteria  \n",
    "# cv refers to cross-validation folds.\n",
    "feature_selector = SequentialFeatureSelector(RandomForestClassifier(n_estimators=10, n_jobs=-1),\n",
    "           k_features=15, forward=True, verbose=2, scoring='roc_auc', cv=4)"
   ]
  },
  {
   "cell_type": "code",
   "execution_count": 7,
   "metadata": {},
   "outputs": [
    {
     "name": "stderr",
     "output_type": "stream",
     "text": [
      "[Parallel(n_jobs=1)]: Using backend SequentialBackend with 1 concurrent workers.\n",
      "[Parallel(n_jobs=1)]: Done   1 out of   1 | elapsed:    5.5s remaining:    0.0s\n",
      "[Parallel(n_jobs=1)]: Done  57 out of  57 | elapsed:   50.5s finished\n",
      "\n",
      "[2020-03-26 09:27:22] Features: 1/15 -- score: 0.6088234033237483[Parallel(n_jobs=1)]: Using backend SequentialBackend with 1 concurrent workers.\n",
      "[Parallel(n_jobs=1)]: Done   1 out of   1 | elapsed:    0.6s remaining:    0.0s\n",
      "[Parallel(n_jobs=1)]: Done  56 out of  56 | elapsed:   43.1s finished\n",
      "\n",
      "[2020-03-26 09:28:05] Features: 2/15 -- score: 0.6464085664747212[Parallel(n_jobs=1)]: Using backend SequentialBackend with 1 concurrent workers.\n",
      "[Parallel(n_jobs=1)]: Done   1 out of   1 | elapsed:    0.7s remaining:    0.0s\n",
      "[Parallel(n_jobs=1)]: Done  55 out of  55 | elapsed:   44.2s finished\n",
      "\n",
      "[2020-03-26 09:28:50] Features: 3/15 -- score: 0.6553294789352773[Parallel(n_jobs=1)]: Using backend SequentialBackend with 1 concurrent workers.\n",
      "[Parallel(n_jobs=1)]: Done   1 out of   1 | elapsed:    0.9s remaining:    0.0s\n",
      "[Parallel(n_jobs=1)]: Done  54 out of  54 | elapsed:   49.0s finished\n",
      "\n",
      "[2020-03-26 09:29:39] Features: 4/15 -- score: 0.6506357023925722[Parallel(n_jobs=1)]: Using backend SequentialBackend with 1 concurrent workers.\n",
      "[Parallel(n_jobs=1)]: Done   1 out of   1 | elapsed:    0.8s remaining:    0.0s\n",
      "[Parallel(n_jobs=1)]: Done  53 out of  53 | elapsed:   47.8s finished\n",
      "\n",
      "[2020-03-26 09:30:27] Features: 5/15 -- score: 0.652142342964446[Parallel(n_jobs=1)]: Using backend SequentialBackend with 1 concurrent workers.\n",
      "[Parallel(n_jobs=1)]: Done   1 out of   1 | elapsed:    0.8s remaining:    0.0s\n",
      "[Parallel(n_jobs=1)]: Done  52 out of  52 | elapsed:   52.6s finished\n",
      "\n",
      "[2020-03-26 09:31:19] Features: 6/15 -- score: 0.6582908922575061[Parallel(n_jobs=1)]: Using backend SequentialBackend with 1 concurrent workers.\n",
      "[Parallel(n_jobs=1)]: Done   1 out of   1 | elapsed:    1.1s remaining:    0.0s\n",
      "[Parallel(n_jobs=1)]: Done  51 out of  51 | elapsed:   47.1s finished\n",
      "\n",
      "[2020-03-26 09:32:07] Features: 7/15 -- score: 0.6547097082244828[Parallel(n_jobs=1)]: Using backend SequentialBackend with 1 concurrent workers.\n",
      "[Parallel(n_jobs=1)]: Done   1 out of   1 | elapsed:    0.8s remaining:    0.0s\n",
      "[Parallel(n_jobs=1)]: Done  50 out of  50 | elapsed:   45.8s finished\n",
      "\n",
      "[2020-03-26 09:32:53] Features: 8/15 -- score: 0.6512995724710838[Parallel(n_jobs=1)]: Using backend SequentialBackend with 1 concurrent workers.\n",
      "[Parallel(n_jobs=1)]: Done   1 out of   1 | elapsed:    0.9s remaining:    0.0s\n",
      "[Parallel(n_jobs=1)]: Done  49 out of  49 | elapsed:   50.5s finished\n",
      "\n",
      "[2020-03-26 09:33:43] Features: 9/15 -- score: 0.6534879074648796[Parallel(n_jobs=1)]: Using backend SequentialBackend with 1 concurrent workers.\n",
      "[Parallel(n_jobs=1)]: Done   1 out of   1 | elapsed:    0.9s remaining:    0.0s\n",
      "[Parallel(n_jobs=1)]: Done  48 out of  48 | elapsed:   48.5s finished\n",
      "\n",
      "[2020-03-26 09:34:32] Features: 10/15 -- score: 0.650883870737717[Parallel(n_jobs=1)]: Using backend SequentialBackend with 1 concurrent workers.\n",
      "[Parallel(n_jobs=1)]: Done   1 out of   1 | elapsed:    1.0s remaining:    0.0s\n",
      "[Parallel(n_jobs=1)]: Done  47 out of  47 | elapsed:   47.5s finished\n",
      "\n",
      "[2020-03-26 09:35:19] Features: 11/15 -- score: 0.6553009622108027[Parallel(n_jobs=1)]: Using backend SequentialBackend with 1 concurrent workers.\n",
      "[Parallel(n_jobs=1)]: Done   1 out of   1 | elapsed:    1.0s remaining:    0.0s\n",
      "[Parallel(n_jobs=1)]: Done  46 out of  46 | elapsed:   47.6s finished\n",
      "\n",
      "[2020-03-26 09:36:07] Features: 12/15 -- score: 0.6569343438600128[Parallel(n_jobs=1)]: Using backend SequentialBackend with 1 concurrent workers.\n",
      "[Parallel(n_jobs=1)]: Done   1 out of   1 | elapsed:    0.9s remaining:    0.0s\n",
      "[Parallel(n_jobs=1)]: Done  45 out of  45 | elapsed:   46.4s finished\n",
      "\n",
      "[2020-03-26 09:36:54] Features: 13/15 -- score: 0.653034557393636[Parallel(n_jobs=1)]: Using backend SequentialBackend with 1 concurrent workers.\n",
      "[Parallel(n_jobs=1)]: Done   1 out of   1 | elapsed:    0.9s remaining:    0.0s\n",
      "[Parallel(n_jobs=1)]: Done  44 out of  44 | elapsed:   44.8s finished\n",
      "\n",
      "[2020-03-26 09:37:38] Features: 14/15 -- score: 0.6539519422026638[Parallel(n_jobs=1)]: Using backend SequentialBackend with 1 concurrent workers.\n",
      "[Parallel(n_jobs=1)]: Done   1 out of   1 | elapsed:    1.0s remaining:    0.0s\n",
      "[Parallel(n_jobs=1)]: Done  43 out of  43 | elapsed:   44.3s finished\n",
      "\n",
      "[2020-03-26 09:38:23] Features: 15/15 -- score: 0.6530821253405026"
     ]
    }
   ],
   "source": [
    "features = feature_selector.fit(np.array(train_features.fillna(0)), train_labels)"
   ]
  },
  {
   "cell_type": "code",
   "execution_count": 8,
   "metadata": {},
   "outputs": [
    {
     "data": {
      "text/plain": [
       "Index(['v1', 'v4', 'v7', 'v8', 'v10', 'v14', 'v15', 'v16', 'v18', 'v23', 'v38',\n",
       "       'v50', 'v51', 'v69', 'v94'],\n",
       "      dtype='object')"
      ]
     },
     "execution_count": 8,
     "metadata": {},
     "output_type": "execute_result"
    }
   ],
   "source": [
    "filtered_features= train_features.columns[list(features.k_feature_idx_)]\n",
    "filtered_features"
   ]
  },
  {
   "cell_type": "code",
   "execution_count": 9,
   "metadata": {},
   "outputs": [
    {
     "name": "stdout",
     "output_type": "stream",
     "text": [
      "Accuracy on training set: 0.7136601229972543\n",
      "Accuracy on test set: 0.6856697224344284\n"
     ]
    }
   ],
   "source": [
    "# performance of the random forest algorithm using these 15 features\n",
    "clf = RandomForestClassifier(n_estimators=100, random_state=41, max_depth=3)\n",
    "clf.fit(train_features[filtered_features].fillna(0), train_labels)\n",
    "\n",
    "train_pred = clf.predict_proba(train_features[filtered_features].fillna(0))\n",
    "print('Accuracy on training set: {}'.format(roc_auc_score(train_labels, train_pred[:,1])))\n",
    "\n",
    "test_pred = clf.predict_proba(test_features[filtered_features].fillna(0))\n",
    "print('Accuracy on test set: {}'.format(roc_auc_score(test_labels, test_pred [:,1])))"
   ]
  },
  {
   "cell_type": "code",
   "execution_count": null,
   "metadata": {},
   "outputs": [],
   "source": [
    "# Step Backwards Feature Selection\n",
    "feature_selector = SequentialFeatureSelector(RandomForestClassifier(n_jobs=-1, n_estimators=10),\n",
    "           k_features=15, forward=False, verbose=2, scoring='roc_auc', cv=4)\n",
    "\n",
    "features = feature_selector.fit(np.array(train_features.fillna(0)), train_labels)"
   ]
  },
  {
   "cell_type": "code",
   "execution_count": null,
   "metadata": {},
   "outputs": [],
   "source": [
    "filtered_features= train_features.columns[list(features.k_feature_idx_)]\n",
    "filtered_features"
   ]
  },
  {
   "cell_type": "code",
   "execution_count": null,
   "metadata": {},
   "outputs": [],
   "source": [
    "clf = RandomForestClassifier(n_estimators=100, random_state=41, max_depth=3)\n",
    "clf.fit(train_features[filtered_features].fillna(0), train_labels)\n",
    "\n",
    "train_pred = clf.predict_proba(train_features[filtered_features].fillna(0))\n",
    "print('Accuracy on training set: {}'.format(roc_auc_score(train_labels, train_pred[:,1])))\n",
    "\n",
    "test_pred = clf.predict_proba(test_features[filtered_features].fillna(0))\n",
    "print('Accuracy on test set: {}'.format(roc_auc_score(test_labels, test_pred [:,1])))"
   ]
  },
  {
   "cell_type": "code",
   "execution_count": null,
   "metadata": {},
   "outputs": [],
   "source": [
    "# Exhaustive Feature Selection \n",
    "from mlxtend.feature_selection import ExhaustiveFeatureSelector\n",
    "\n",
    "# min_featuresand max_features attributes which can be used to specify the minimum \n",
    "# and the maximum number of features in the combination.\n",
    "feature_selector = ExhaustiveFeatureSelector(RandomForestClassifier(n_jobs=-1, n_estimators=10),\n",
    "           min_features=2, max_features=4, scoring='roc_auc', print_progress=True, cv=2)"
   ]
  },
  {
   "cell_type": "code",
   "execution_count": null,
   "metadata": {},
   "outputs": [],
   "source": [
    "features = feature_selector.fit(np.array(train_features.fillna(0)), train_labels)"
   ]
  },
  {
   "cell_type": "code",
   "execution_count": null,
   "metadata": {},
   "outputs": [],
   "source": [
    "filtered_features= train_features.columns[list(features.k_feature_idx_)]\n",
    "filtered_features"
   ]
  },
  {
   "cell_type": "code",
   "execution_count": null,
   "metadata": {},
   "outputs": [],
   "source": [
    "clf = RandomForestClassifier(n_estimators=100, random_state=41, max_depth=3)\n",
    "clf.fit(train_features[filtered_features].fillna(0), train_labels)\n",
    "\n",
    "train_pred = clf.predict_proba(train_features[filtered_features].fillna(0))\n",
    "print('Accuracy on training set: {}'.format(roc_auc_score(train_labels, train_pred[:,1])))\n",
    "\n",
    "test_pred = clf.predict_proba(test_features[filtered_features].fillna(0))\n",
    "print('Accuracy on test set: {}'.format(roc_auc_score(test_labels, test_pred [:,1])))"
   ]
  },
  {
   "cell_type": "code",
   "execution_count": null,
   "metadata": {},
   "outputs": [],
   "source": []
  },
  {
   "cell_type": "code",
   "execution_count": null,
   "metadata": {},
   "outputs": [],
   "source": []
  },
  {
   "cell_type": "code",
   "execution_count": null,
   "metadata": {},
   "outputs": [],
   "source": []
  }
 ],
 "metadata": {
  "kernelspec": {
   "display_name": "Python 3",
   "language": "python",
   "name": "python3"
  },
  "language_info": {
   "codemirror_mode": {
    "name": "ipython",
    "version": 3
   },
   "file_extension": ".py",
   "mimetype": "text/x-python",
   "name": "python",
   "nbconvert_exporter": "python",
   "pygments_lexer": "ipython3",
   "version": "3.7.4"
  }
 },
 "nbformat": 4,
 "nbformat_minor": 2
}
